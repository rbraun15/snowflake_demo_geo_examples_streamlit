{
 "metadata": {
  "kernelspec": {
   "display_name": "Streamlit Notebook",
   "name": "streamlit"
  }
 },
 "nbformat_minor": 5,
 "nbformat": 4,
 "cells": [
  {
   "cell_type": "markdown",
   "id": "d3fbad99-411f-429b-a6d0-3fa6f91297d0",
   "metadata": {
    "name": "cell1",
    "collapsed": false,
    "resultHeight": 551
   },
   "source": "### Find expired registrations and visualize data on an interactive map\n\n**About:**\n\n\n- I am leveraging US Addresses POI data from the marketplace and joining it with data related to my DMV use case.  \n- This demo has been designed so you can join location data to data that may be specific to your use case, but does not contain any address or geo coded data.  \n- Customize the data to the desired location by filtering the POI data.\n- There are five Streamlit maps that incorporate layers - H3HexagonLayer, ScatterplotLayer, ArcLayer, PathLayer.  Included in the maps are tooltips and filters to select a location of interest and points within a specified distance.\n- **Use this as is or use the working examples to build your own custom demo….**\n\n\n\n**Concepts:**\n- Run SQL and python in notebook\n- Import python packages\n- Create DB and Schema\n- Create tables in RAW layer\n- Access Snowflake Marketplace for address data\n- Join tables to create SILVER layer\n- Create interactive map"
  },
  {
   "cell_type": "markdown",
   "id": "3a817ea3-d454-4d8a-8650-98a9aeedb5fa",
   "metadata": {
    "name": "cell2",
    "collapsed": false,
    "resultHeight": 91
   },
   "source": "### Add the following package via the Packages dropdown:\n\n\n- pydeck"
  },
  {
   "cell_type": "code",
   "id": "3775908f-ca36-4846-8f38-5adca39217f2",
   "metadata": {
    "language": "python",
    "name": "IMPORT_PYTHON_PACKAGES_GET_SESSION_INFO",
    "collapsed": false,
    "resultHeight": 0
   },
   "source": "# Import python packages\nimport streamlit as st\nimport pandas as pd\nimport pydeck as pdk\n\n# We can also use Snowpark for our analyses!\nfrom snowflake.snowpark.context import get_active_session\nsession = get_active_session()\n",
   "execution_count": null,
   "outputs": []
  },
  {
   "cell_type": "code",
   "id": "f0ffbb62-2611-468e-9e60-68810bf9bf0c",
   "metadata": {
    "language": "python",
    "name": "SEE_SESSION_INFO",
    "collapsed": false,
    "resultHeight": 83
   },
   "outputs": [],
   "source": "get_active_session()",
   "execution_count": null
  },
  {
   "cell_type": "code",
   "id": "8d50cbf4-0c8d-4950-86cb-114990437ac9",
   "metadata": {
    "language": "sql",
    "name": "CREATE_DB_AND_SCHEMA",
    "collapsed": false,
    "resultHeight": 112
   },
   "source": "--drop database DEMO_GEOSPATIAL;\ncreate or replace database DEMO_GEOSPATIAL;\ncreate schema raw;\ncreate schema silver;\ncreate schema gold;",
   "execution_count": null,
   "outputs": []
  },
  {
   "cell_type": "code",
   "id": "40f93daa-1444-4f3d-8bb6-3158b5627801",
   "metadata": {
    "language": "sql",
    "name": "DEFINE_DB_AND_ROLE_TO_USE",
    "collapsed": false,
    "resultHeight": 112
   },
   "outputs": [],
   "source": "use database DEMO_GEOSPATIAL;\nuse role accountadmin;\n \n",
   "execution_count": null
  },
  {
   "cell_type": "code",
   "id": "18ba4999-7e1f-4461-b547-913ea85acfe7",
   "metadata": {
    "language": "sql",
    "name": "CREATE_USECASE_TABLE",
    "collapsed": false,
    "resultHeight": 112
   },
   "outputs": [],
   "source": "create or replace TABLE RAW.USECASE_TABLE (\n\tREGISTRATION_CLASS VARCHAR(16777216),\n\tVIN VARCHAR(16777216),\n\tMODEL_YEAR VARCHAR(16777216),\n\tMAKE_CODE VARCHAR(16777216),\n\tBODY_TYPE VARCHAR(16777216),\n\tMAXIMUM_GROSS_VEHICLE_WEIGHT NUMBER(38,0),\n\tSEATS VARCHAR(16777216),\n\tFUEL VARCHAR(16777216),\n\tCYLINDERS VARCHAR(16777216),\n\tTRANSACTION VARCHAR(16777216),\n\tREGISTRANT VARCHAR(16777216),\n\tCITY VARCHAR(16777216),\n\tSTATE VARCHAR(16777216),\n\tZIP_CODE VARCHAR(16777216),\n\tRESIDENCE_COUNTY VARCHAR(16777216),\n\tEFFECTIVE_DATE DATE,\n\tREGISTRATION_EXPIRATION DATE,\n\tLENGTH VARCHAR(16777216),\n\tHULL_MATERIAL VARCHAR(16777216),\n\tPROPULSION VARCHAR(16777216),\n\tUSE VARCHAR(16777216),\n\tCOUNTY_OF_USE VARCHAR(16777216),\n\tDISPLACEMENT_OR_HORSEPOWER VARCHAR(16777216),\n\tEXPORTED DATE,\n\tGEOREFERENCE GEOGRAPHY\n);\n",
   "execution_count": null
  },
  {
   "cell_type": "code",
   "id": "30fe9f5b-ce5b-421e-ab2d-9826e29e67cd",
   "metadata": {
    "language": "sql",
    "name": "INSERT_SAMPLE_DATA",
    "collapsed": false,
    "resultHeight": 112
   },
   "outputs": [],
   "source": "-- This cell populates enough sample data so the maps display\n--\n--To load a more full dataset see below:\n-- Downlod csv from: \n--     https://catalog.data.gov/dataset/department-of-motor-vehicles-registration-transactions-two-year-window\n--     it's a huge file.\n--     I created a file of 100k records via the terminal command:\n--  cat Department_of_Motor_Vehicles_Registration_Transactions__Two_Year_Window.csv | head -100000 > highway_safety_100000.csv\n--    I then loaded into RAW.USECASE_TABLE\n\ninsert into RAW.USECASE_TABLE\n(   VIN,  REGISTRATION_EXPIRATION  )\nvalues\n('KNDJ23AU6N7161727','12/01/2021'),\n('KNDJ23AU6N7161728','12/21/2023'),\n('KNDJ23AU6N7141727','12/01/2023'),\n('KNDJ23AU6N716728','11/21/2024'),\n('KNDJ23AU6N7131727','1/01/2024'),\n('KNDJ23AU6N7141728','12/21/2022'),\n('KNDJ23AU6N7151727','12/01/2022'),\n('KNDJ23AU6N7161728','12/21/2022'),\n('KNDJ23AU6N7171727','12/01/2022');\n\n-- blow up your sample data to 4,608 records\n\ninsert into RAW.USECASE_TABLE( VIN,  REGISTRATION_EXPIRATION) select VIN,  REGISTRATION_EXPIRATION from RAW.USECASE_TABLE ;\ninsert into RAW.USECASE_TABLE( VIN,  REGISTRATION_EXPIRATION) select VIN,  REGISTRATION_EXPIRATION from RAW.USECASE_TABLE ;\ninsert into RAW.USECASE_TABLE( VIN,  REGISTRATION_EXPIRATION) select VIN,  REGISTRATION_EXPIRATION from RAW.USECASE_TABLE ;\ninsert into RAW.USECASE_TABLE( VIN,  REGISTRATION_EXPIRATION) select VIN,  REGISTRATION_EXPIRATION from RAW.USECASE_TABLE ;\ninsert into RAW.USECASE_TABLE( VIN,  REGISTRATION_EXPIRATION) select VIN,  REGISTRATION_EXPIRATION from RAW.USECASE_TABLE ;\ninsert into RAW.USECASE_TABLE( VIN,  REGISTRATION_EXPIRATION) select VIN,  REGISTRATION_EXPIRATION from RAW.USECASE_TABLE ;\ninsert into RAW.USECASE_TABLE( VIN,  REGISTRATION_EXPIRATION) select VIN,  REGISTRATION_EXPIRATION from RAW.USECASE_TABLE ;\ninsert into RAW.USECASE_TABLE( VIN,  REGISTRATION_EXPIRATION) select VIN,  REGISTRATION_EXPIRATION from RAW.USECASE_TABLE ;\ninsert into RAW.USECASE_TABLE( VIN,  REGISTRATION_EXPIRATION) select VIN,  REGISTRATION_EXPIRATION from RAW.USECASE_TABLE ;\nselect count(*) from  RAW.USECASE_TABLE; \n",
   "execution_count": null
  },
  {
   "cell_type": "code",
   "id": "999331a5-bc5a-4d1a-bab0-3c68efe7dfea",
   "metadata": {
    "language": "sql",
    "name": "CREATE_TABLE_WITH_HIGHWAY_DATA",
    "resultHeight": 427,
    "collapsed": false
   },
   "outputs": [],
   "source": "-- Step below do the following:\n-- 1) create an empty table based on existing table\n-- 2) add a sequence to the table\n-- 3) populate the table with a select into\n--\n-- The result is table with a row_id containing unique values\n-- The premise is this table has no address or geo data\n-- The table can contain any data to support the story you want to tell\n--  Location info will be incporated in following cells\n--\n-- If you want to reproduce this exact demo see the cell below for the HIGHWAY_SAFETY ddl and data\n--\ncreate or replace table RAW.HIGHWAY_SAFETY as \nselect \nREGISTRATION_CLASS, VIN, MODEL_YEAR, MAKE_CODE, BODY_TYPE, MAXIMUM_GROSS_VEHICLE_WEIGHT, SEATS, FUEL, CYLINDERS, TRANSACTION, REGISTRANT, EFFECTIVE_DATE, REGISTRATION_EXPIRATION, LENGTH, HULL_MATERIAL, PROPULSION, USE, DISPLACEMENT_OR_HORSEPOWER, EXPORTED,\nfrom \nRAW.USECASE_TABLE limit 0;\n--------------------------------------------------------------------------------\n\n-- Create sequence and add it to the table, as data gets added the ROW_ID will have unique values\n-- the ROW_ID will be used to join to the address table\n--\n\nCREATE OR REPLACE SEQUENCE RAW.HIGHWAY_SAFETY_ROW_ID_SEQ\n  START WITH 1\n  INCREMENT BY 1;\n\nalter table RAW.HIGHWAY_SAFETY add column\nROW_ID NUMBER(38,0) DEFAULT RAW.HIGHWAY_SAFETY_ROW_ID_SEQ.NEXTVAL;\n--------------------------------------------------------------------------------  \n\n-- add data to new table and verify the sequency is working\n--\ninsert into RAW.HIGHWAY_SAFETY\n( REGISTRATION_CLASS, VIN, MODEL_YEAR, MAKE_CODE, BODY_TYPE, MAXIMUM_GROSS_VEHICLE_WEIGHT, SEATS, FUEL, CYLINDERS, TRANSACTION, REGISTRANT, EFFECTIVE_DATE, REGISTRATION_EXPIRATION, LENGTH, HULL_MATERIAL, PROPULSION, USE, DISPLACEMENT_OR_HORSEPOWER, EXPORTED)\nselect \nREGISTRATION_CLASS, VIN, MODEL_YEAR, MAKE_CODE, BODY_TYPE, MAXIMUM_GROSS_VEHICLE_WEIGHT, SEATS, FUEL, CYLINDERS, TRANSACTION, REGISTRANT, EFFECTIVE_DATE, REGISTRATION_EXPIRATION, LENGTH, HULL_MATERIAL, PROPULSION, USE, DISPLACEMENT_OR_HORSEPOWER, EXPORTED\nfrom \nRAW.USECASE_TABLE limit 100000;\n\nselect * from RAW.HIGHWAY_SAFETY limit 10;\n--------------------------------------------------------------------------------",
   "execution_count": null
  },
  {
   "cell_type": "markdown",
   "id": "00798bd7-decd-4120-a79d-042f3ce0b3b1",
   "metadata": {
    "name": "MARKETPLACE_DATA",
    "collapsed": false,
    "resultHeight": 140
   },
   "source": "The step below requires the Marketplace DB:\n- US_POINTS_OF_INTEREST__ADDRESSES.CYBERSYN.US_ADDRESSES\n- Get it from > Data products > Marketplace > US Addresses POI\n- if you have imported the db as a different name then update lines 28 and 53 accordingly\n"
  },
  {
   "cell_type": "code",
   "id": "496d8f84-0b76-49f7-a18d-acdd014807e7",
   "metadata": {
    "language": "sql",
    "name": "CREATE_TABLE_WITH_GEOCODED_ADDRESSES",
    "collapsed": false,
    "resultHeight": 427
   },
   "outputs": [],
   "source": "-- Leverage Snowflake Marketplace Address Data\n--    Data products > Marketplace > US Addresses POI \n-- Create a table with random addresses that will be joined to the table created in the prior step\n-- Update the where clause to support your story, filter by specific zip, city,  state, etc....\n-- The result will be a table with GEO Coded address, each record will also have a uniqe ROW_ID\n--\n-- Create empty table to get the structure\n--\n create or replace table RAW.POI_ADDRESSES as\n    SELECT\n        ADDRESS_ID,\n        ID_ZIP,\n        ID_CITY,\n        ID_STATE,\n        ID_COUNTRY,\n        LONGITUDE,\n        LATITUDE,\n        NUMBER,\n        STREET_DIRECTIONAL_PREFIX,\n        STREET,\n        STREET_TYPE,\n        STREET_DIRECTIONAL_SUFFIX,\n        UNIT,\n        CITY,\n        STATE,\n        ZIP     \n    FROM\n        US_POINTS_OF_INTEREST__ADDRESSES.CYBERSYN.US_ADDRESSES\n    limit 0;\n--------------------------------------------------------------------------------\n\n\n-- create sequence then a ROW_ID populated by the sequence, this will join to address info in FL\n--\nCREATE OR REPLACE SEQUENCE RAW.POI_ADDRESSES_ROW_ID_SEQ\n  START WITH 1\n  INCREMENT BY 1;\n\nalter table RAW.POI_ADDRESSES add column\nROW_ID NUMBER(38,0) DEFAULT RAW.POI_ADDRESSES_ROW_ID_SEQ.NEXTVAL;\n-------------------------------------------------------------------------------- \n\n\n\n-- add data to new table and verify the sequenc is working\n-- Update the where clause to support your story, filter by specific zip, city,  state, etc....\n--\ninsert into RAW.POI_ADDRESSES\n( ADDRESS_ID, ID_ZIP, ID_CITY, ID_STATE, ID_COUNTRY, LONGITUDE, LATITUDE, NUMBER, STREET_DIRECTIONAL_PREFIX, STREET, STREET_TYPE, STREET_DIRECTIONAL_SUFFIX, UNIT, CITY, STATE, ZIP)\nselect \nADDRESS_ID, ID_ZIP, ID_CITY, ID_STATE, ID_COUNTRY, LONGITUDE, LATITUDE, NUMBER, STREET_DIRECTIONAL_PREFIX, STREET, STREET_TYPE, STREET_DIRECTIONAL_SUFFIX, UNIT, CITY, STATE, ZIP\nfrom \nUS_POINTS_OF_INTEREST__ADDRESSES.CYBERSYN.US_ADDRESSES\nWHERE\n        STATE = 'FL' \n      -- and  ZIP in ('32301', '32202', '32801' )\nlimit 10000;\n\nselect * from RAW.POI_ADDRESSES limit 10;\n--------------------------------------------------------------------------------\n\n\n    \n     ",
   "execution_count": null
  },
  {
   "cell_type": "code",
   "id": "2e51399e-6ed8-43c3-8fcf-b99956cf36aa",
   "metadata": {
    "language": "sql",
    "name": "MIN_AND_MAX_ID",
    "collapsed": false,
    "resultHeight": 112
   },
   "outputs": [],
   "source": "-- check to see max and min values, it's not a perfect sequence, but will suffice for demo purposes\n--\nselect max(row_id), min(row_id) from RAW.POI_ADDRESSES;",
   "execution_count": null
  },
  {
   "cell_type": "code",
   "id": "46aeddb9-a443-441b-8331-df8d1c49bb0f",
   "metadata": {
    "language": "sql",
    "name": "COUNT_JOINED_HIGHWAY_AND_GEOCODED_DATA",
    "collapsed": false,
    "resultHeight": 112
   },
   "outputs": [],
   "source": "-- See how many rows will be produced when Safety and Address data is joined\n-- Should be roughly the lower of limit on two above create tables\n-- Sequence is not a perfect incremental counter\n-- Should suffice for demo purposes\n--\nSELECT COUNT(*)  FROM \nRAW.POI_ADDRESSES FL,\nRAW.HIGHWAY_SAFETY A\nWHERE\nFL.ROW_ID=A.ROW_ID",
   "execution_count": null
  },
  {
   "cell_type": "markdown",
   "id": "44d3c1d5-0f44-4d94-bf38-e27976b36976",
   "metadata": {
    "name": "GEOCODING_RESOURCES",
    "collapsed": false,
    "resultHeight": 166
   },
   "source": "Real world, one can join by address fields or employ other Geo Coding techniques, some relevant resources:\n- Quick Start - [Using Snowflake Cortex And Streamlit With Geospatial Data](https://quickstarts.snowflake.com/guide/using_snowflake_cortex_and_streamlit_with_geospatial_data/index.html?index=..%2F..index#0)\n- Medium Article - [How to Geocode Addresses in Snowflake](https://medium.com/snowflake/how-to-geocode-addresses-in-snowflake-ea1b6ccdde24)\n\n\n- Medium Article - [Geocode Addrsses in Snowflake with External Access Integration](  https://medium.com/snowflake/geocode-addresses-in-snowflake-with-external-access-integration-4237103659ef)"
  },
  {
   "cell_type": "markdown",
   "id": "3f352b0f-b4d6-44ee-a4a3-79ade4bfc99f",
   "metadata": {
    "name": "DUPE_CHECK",
    "collapsed": false
   },
   "source": ""
  },
  {
   "cell_type": "code",
   "id": "75c61f3c-9208-49db-b6cf-e7fcb25b8eff",
   "metadata": {
    "language": "sql",
    "name": "CHECK_FOR_DUPLICATES",
    "collapsed": false,
    "resultHeight": 112
   },
   "outputs": [],
   "source": "-- Check for distinct ROW_ID\n-- Query should return empty or 0, only want to use each address once\n--\nSELECT DISTINCT A.ROW_ID FROM \nRAW.POI_ADDRESSES FL,\nRAW.HIGHWAY_SAFETY A\nWHERE\nFL.ROW_ID=A.ROW_ID\nGROUP BY A.ROW_ID\nHAVING COUNT(A.ROW_ID) > 1",
   "execution_count": null
  },
  {
   "cell_type": "code",
   "id": "0461538d-1f2a-44d3-8b40-c661cedb65a2",
   "metadata": {
    "language": "sql",
    "name": "PREVIEW_JOINED_HIGHWAY_AND_GEOCODED_DATA",
    "collapsed": false,
    "resultHeight": 427
   },
   "outputs": [],
   "source": "SELECT\n    A.* EXCLUDE(ROW_ID), FL.*   \nFROM \n    RAW.POI_ADDRESSES FL,\n    RAW.HIGHWAY_SAFETY A\nWHERE\n    FL.ROW_ID=A.ROW_ID limit 10;",
   "execution_count": null
  },
  {
   "cell_type": "code",
   "id": "d26e385f-be24-414e-9da1-1e51855061ce",
   "metadata": {
    "language": "sql",
    "name": "CTAS_JOINED_HIGHWAY_AND_GEOCODED_DATA_SILVER_LAYER",
    "collapsed": false,
    "resultHeight": 112
   },
   "outputs": [],
   "source": "-- This could also be done via a view or perhaps leverage dynamic tables\n--\ncreate or replace table \n    SILVER.HIGHWAY_SAFETY_GEO as\nSELECT\n    A.* EXCLUDE(ROW_ID), FL.*   \nFROM \n    RAW.POI_ADDRESSES FL,\n    RAW.HIGHWAY_SAFETY A\nWHERE\n    FL.ROW_ID=A.ROW_ID ",
   "execution_count": null
  },
  {
   "cell_type": "code",
   "id": "2d9ac672-e665-4584-8933-e2320d0f73d1",
   "metadata": {
    "language": "sql",
    "name": "EXPIRING_REGISTRATIONS",
    "collapsed": false,
    "resultHeight": 112
   },
   "outputs": [],
   "source": "-- My demo story is to find expired vehicle registrations\n--\nselect min(REGISTRATION_EXPIRATION), max(REGISTRATION_EXPIRATION)  from SILVER.HIGHWAY_SAFETY_GEO;\nselect count(*) from SILVER.HIGHWAY_SAFETY_GEO where REGISTRATION_EXPIRATION < CURRENT_DATE;",
   "execution_count": null
  },
  {
   "cell_type": "code",
   "id": "1282547c-2a45-4b03-930a-e786e21ffa62",
   "metadata": {
    "language": "python",
    "name": "VISUALIZE_DATA_IN_MAP_H3_HEXAGON",
    "collapsed": false,
    "resultHeight": 565
   },
   "outputs": [],
   "source": "# Let's see a H3 map of our data, we chose a level of 5, update as appropriate or make it dynamic\n# Hover over a cell and see the number of expired registrations\n#\nimport streamlit as st\nimport pandas as pd\nimport pydeck as pdk\nimport numpy as np\n\n# Query to get map points (H3 index) and aggregate COUNT for each H3 cell\ndf_query = \"\"\"\nSELECT \n    H3_LATLNG_TO_CELL_STRING(LATITUDE, LONGITUDE, 5) AS LATLONG_5, \n    COUNT(*) AS COUNT , AVG(LATITUDE) as AVG_LATITUDE, AVG(LONGITUDE) as AVG_LONGITUDE\nFROM SILVER.HIGHWAY_SAFETY_GEO \nWHERE REGISTRATION_EXPIRATION < CURRENT_DATE\nGROUP BY LATLONG_5\nLIMIT 5000;\n\"\"\"\ndf = session.sql(df_query).to_pandas()\n\n# Check the data to make sure LATLONG_9 is in the expected format\n# st.write(df.head())  # Inspect first few rows of your DataFrame\n\n# Define a function to calculate RGB color based on COUNT\ndef get_color_for_count(count):\n    # Normalize the COUNT value to be between 0 and 255\n    count = max(0, min(count, 255))  # Ensure COUNT is between 0 and 255\n    \n    # Color logic: As COUNT increases, shift from blue (low) to red (high)\n    red = 255 - count  # Red decreases as COUNT increases\n    green = 255\n    blue = count  # Blue increases as COUNT increases\n    \n    return [red, green, blue]\n\n# Apply the color function to the COUNT column in your DataFrame\ndf['color'] = df['COUNT'].apply(get_color_for_count)\n\n\n# Define tooltip, to provide details on points\ntooltip = {\n        \"html\": \n                \"<b>Number of Records:</b> {COUNT} <br/>\"\n              \"<b>RGB Color:</b> {color} <br/>\",\n                 \n         \n            \"style\": {\n                    \"backgroundColor\": 'rgba(128, 0, 128, 0.5)',\n                    \"color\": \"white\"}}\n\n\n\n# Calcualte average to set centerpoint of map, leverages above dataframe\navg_latitude =  df['AVG_LATITUDE'].mean()\navg_longitude =  df['AVG_LONGITUDE'].mean()\n\n\n\n\n# Create the pydeck Layer with tooltip\nlayer = pdk.Layer(\n    \"H3HexagonLayer\",\n    df,\n    pickable=True,\n    stroked=True,\n    filled=True,\n    extruded=False,\n    opacity=0.1,\n    get_hexagon=\"LATLONG_5\",  # Use the H3 index column to determine hexagon position\n    #get_fill_color=\"color\",   # Use the dynamically calculated color\n    get_fill_color=\"color\",   # Use the dynamically calculated color\n    #get_line_color=[255, 255, 255],  # White line color\n    get_line_color=[0,0,255],  # White line color\n    line_width_min_pixels=2,\n\n)\n\n# Mapbox API key (ensure you have a valid key here)\nmbkey = ''  # Replace with your actual Mapbox API key\n\n# Define the map details\ndeck_all_layers = pdk.Deck(\n    map_provider='mapbox',\n    api_keys={\"mapbox\": mbkey},\n    map_style='mapbox://styles/mapbox/light-v11',\n    layers=[layer],\n    tooltip=tooltip,\n    initial_view_state=pdk.ViewState(\n       # latitude=28.538336,  # Adjust if necessary to center on your data\n       # longitude=-81.379234,  # Adjust if necessary to center on your data\n\nlatitude=avg_latitude ,  # Adjust if necessary to center on your data\n        longitude=avg_longitude,  # Adjust if necessary to center on your data\n\n        \n        zoom=7,  # Try adjusting the zoom level\n        pitch=30\n    )\n)\n\n\n\n\n \n\n\nst.write(\"DHS & MV - Expired Registrations\")\n\n# Display the map\nst.pydeck_chart(deck_all_layers)\n",
   "execution_count": null
  },
  {
   "cell_type": "code",
   "id": "6ae3b9e2-3e2c-42e9-ae7a-89e91aae1086",
   "metadata": {
    "language": "python",
    "name": "VISUALIZE_DATA_IN_MAP_LAT_LONG",
    "collapsed": false,
    "resultHeight": 565
   },
   "outputs": [],
   "source": "# Let's view the points on a map\n#\nimport streamlit as st\nimport pandas as pd\nimport pydeck as pdk\n \n \n# Query to get my map points\nmap_locations_query = f\"\"\"select LONGITUDE, LATITUDE , VIN , ZIP, cast(REGISTRATION_EXPIRATION as string) as REGISTRATION_EXPIRATION_STR from SILVER.HIGHWAY_SAFETY_GEO where REGISTRATION_EXPIRATION < CURRENT_DATE\"\"\"\nmap_locations_query_df = session.sql(map_locations_query).to_pandas()\nmap_locations_query_col = session.sql(map_locations_query).collect()\n\n\n\n# Define my map layer off above dataframe\nmap_locations_layer = pdk.Layer(\n    type='ScatterplotLayer', \n    data=map_locations_query_df, \n    pickable=True,\n    get_position='[LONGITUDE, LATITUDE]', \n    get_color='[215,21,99]',\n    # get_color='[128,0,128,200]',   \n    get_radius=300,\n    opacity=0.1,\n    auto_highlight=True,\n    id = 'map_locations_id' \n)\n\n\n# Calcualte average to set centerpoint of map, leverages above dataframe\navg_latitude = map_locations_query_df['LATITUDE'].mean()\navg_longitude = map_locations_query_df['LONGITUDE'].mean()\n\n\n# Define tooltip, to provide details on points\ntooltip = {\n        \"html\": \n                \"<b>VIN:</b> {VIN} <br/>\"\n                \"<b>Registration Expiration:</b> {REGISTRATION_EXPIRATION_STR} <br/>\"\n                \"<b>ZIP:</b> {ZIP}\",\n            \"style\": {\n                    \"backgroundColor\": 'rgba(128, 0, 128, 0.5)',\n                    \"color\": \"white\"}}\n\n# mapbox API key\nmbkey = ''\n\n# define map details - layers, map provider, initial state, tooltip\ndeck_all_layers = pdk.Deck(\n        map_provider = 'mapbox',\n        api_keys = {\"mapbox\":mbkey},\n        map_style = 'mapbox://styles/mapbox/light-v11',\n        layers=[\n             map_locations_layer\n               ], \n        tooltip = tooltip,\n        initial_view_state=pdk.ViewState(\n        latitude=avg_latitude,\n        longitude=avg_longitude,\n        zoom=7,\n        pitch=30\n        )\n        )\nst.write(\"DHS & MV - Expired Registrations\")\n# display the map\nst.pydeck_chart(deck_all_layers)\n",
   "execution_count": null
  },
  {
   "cell_type": "code",
   "id": "2f7dc099-4eed-4a5a-9b81-50e3d2031e23",
   "metadata": {
    "language": "sql",
    "name": "RESIZE_LARGE",
    "collapsed": false,
    "resultHeight": 112
   },
   "outputs": [],
   "source": "-- Optional Step\n--    to show how more compute can be added on the demand \n--    update warehouse name based on your environment\nalter warehouse XS_WAREHOUSE  set warehouse_size = 'Large';",
   "execution_count": null
  },
  {
   "cell_type": "code",
   "id": "0e13c022-d177-4dd1-8c39-47100141f2cd",
   "metadata": {
    "language": "sql",
    "name": "QUERY_REGISTRATION_ADDRESS_WITHIN_X_MILES_OF_OFFICE",
    "resultHeight": 439,
    "collapsed": false
   },
   "outputs": [],
   "source": "-- Find registration address within X miles of a Field Office\n-- Display the true false field and the distance\n--\n----------------------------------------------\n-- SET VARIABLES \nset MILES=10;\nset FIELD_OFFICE_LAT=30.21932;\nset FIELD_OFFICE_LONG=-81.594196;\n----------------------------------------------\n\n-- there are 1609.34 meters in a mile\n-- CTE to allow us to output only the fields we want\nwith POINTS as (\nSELECT \n  ST_MAKEPOINT(LONGITUDE, LATITUDE) as VEHICLE_LOCATION_POINT,\n  ST_MAKEPOINT(($FIELD_OFFICE_LONG),($FIELD_OFFICE_LAT)) as FIELD_OFFICE_POINT , \n  VIN,\n  NUMBER || ' ' || STREET || ' ' || CITY || ', ' || STATE || ' ' || ZIP as ADDRESS,\n  LATITUDE,\n  LONGITUDE,\n  ZIP,\n  cast(REGISTRATION_EXPIRATION as string) as REGISTRATION_EXPIRATION_STR\nFROM \n     SILVER.HIGHWAY_SAFETY_GEO\n     )\n \n-- Select against CTE\nSELECT \n  VIN,\n  ADDRESS,  \n  ST_DWITHIN(VEHICLE_LOCATION_POINT, FIELD_OFFICE_POINT , (($MILES)*1609.34)) AS WITHIN_RANGE,\n  ST_DISTANCE(VEHICLE_LOCATION_POINT, FIELD_OFFICE_POINT )/1609.34 AS MILES_AWAY,\n  LATITUDE,\n  LONGITUDE,\n  ZIP,\n  REGISTRATION_EXPIRATION_STR\nFROM \n  POINTS\nWHERE\n  ST_DISTANCE(VEHICLE_LOCATION_POINT, FIELD_OFFICE_POINT ) < (($MILES)*1609.34) and \n  VIN is not NULL;\n",
   "execution_count": null
  },
  {
   "cell_type": "code",
   "id": "e4619610-a8bf-48f3-ae23-6d74d31e77da",
   "metadata": {
    "language": "sql",
    "name": "RESIZE_XSMALL",
    "collapsed": false,
    "resultHeight": 112
   },
   "outputs": [],
   "source": "-- Resize warehouse back to X-Small, if you ran the cell to change to Large \n--    update warehouse name based on your environment\nalter warehouse XS_WAREHOUSE  set warehouse_size = 'X-Small';",
   "execution_count": null
  },
  {
   "cell_type": "code",
   "id": "faf1e1a0-ec0a-4b25-a3cb-73087e7eda09",
   "metadata": {
    "language": "python",
    "name": "REGISTRATION_ADDRSS_NEAR_FIELD_OFFICE",
    "collapsed": false,
    "resultHeight": 681
   },
   "outputs": [],
   "source": "# Let's create an interactive map that allows users to select a field office and \n#   see expired registrations within x miles\n\nimport streamlit as st\nimport pandas as pd\nimport pydeck as pdk\n \nst.write(\"\")\nst.write(\"DHS & MV - Expired Registrations\")\nst.write(\"\")\n\n# -------------------------------------------------------------------------------------\n# Filter for city center\n# -------------------------------------------------------------------------------------\n\n# Sidebar filter for the number of stations\n#MILES_AWAY = st.sidebar.number_input(\"Distance away (miles):\", min_value=1, max_value=10, step=1, value=1)\n\ncol2, col1 = st.columns(2)\n\nwith col1:\n    MILES_AWAY_NUM = st.number_input(\"Distance away (miles):\", min_value=1, max_value=10, step=1, value=1)\n\n\ncity_coordinates = {\n    \"Jacksonville\": (-81.6557,30.3322),\n    \"Orlando\": (-81.3789,28.5384),\n    \"Tallahassee\": (-84.2806,30.4382)\n}\n\nwith col2:\n    selected_city = st.selectbox(\n    \"Select a city:\",\n    options=list(city_coordinates.keys())  # The dropdown options (city names)\n)\n\n\n# Get the lat/long from the dictionary based on the selected city\nselected_lon, selected_lat = city_coordinates[selected_city]\n\n\n\n \nmap_locations_query = f\"\"\"\nwith POINTS as (\nSELECT \n  ST_MAKEPOINT(LONGITUDE, LATITUDE) as VEHICLE_LOCATION_POINT,\n  ST_MAKEPOINT({selected_lon},{selected_lat}) as FIELD_OFFICE_POINT , \n  VIN,\n  NUMBER || ' ' || STREET || ' ' || CITY || ', ' || STATE || ' ' || ZIP as ADDRESS,\n  LATITUDE,\n  LONGITUDE,\n  ZIP,\n  cast(REGISTRATION_EXPIRATION as string) as REGISTRATION_EXPIRATION_STR\nFROM \n     SILVER.HIGHWAY_SAFETY_GEO\n     )\n \n-- Select against CTE\nSELECT \n  VIN,\n  ADDRESS,  \n  ST_DWITHIN(VEHICLE_LOCATION_POINT, FIELD_OFFICE_POINT , ({MILES_AWAY_NUM}*1609.34)) AS WITHIN_RANGE,\n  ST_DISTANCE(VEHICLE_LOCATION_POINT, FIELD_OFFICE_POINT )/1609.34 AS MILES_AWAY,\n  LATITUDE,\n  LONGITUDE,\n  ZIP,\n  REGISTRATION_EXPIRATION_STR\nFROM \n  POINTS\nWHERE\n  ST_DISTANCE(VEHICLE_LOCATION_POINT, FIELD_OFFICE_POINT ) < ({MILES_AWAY_NUM}*1609.34) and \n  VIN is not NULL;\n \"\"\"\n\n\n\n# Query to get my map points\n#map_locations_query = f\"\"\"select LONGITUDE, LATITUDE , VIN , ZIP, cast(REGISTRATION_EXPIRATION as string) as REGISTRATION_EXPIRATION_STR from FL_DHS_MV.SILVER.HIGHWAY_SAFETY_GEO where REGISTRATION_EXPIRATION < CURRENT_DATE\"\"\"\nmap_locations_query_df = session.sql(map_locations_query).to_pandas()\nmap_locations_query_col = session.sql(map_locations_query).collect()\n\n\n\n# Define my map layer off above dataframe\nmap_locations_layer = pdk.Layer(\n    type='ScatterplotLayer', \n    data=map_locations_query_df, \n    pickable=True,\n    get_position='[LONGITUDE, LATITUDE]', \n    get_color='[215,21,99]',\n    # get_color='[128,0,128,200]',   \n    get_radius=100,\n    opacity=0.1,\n    auto_highlight=True,\n    id = 'map_locations_id' \n)\n\n\n# Calcualte average to set centerpoint of map, leverages above dataframe\navg_latitude = map_locations_query_df['LATITUDE'].mean()\navg_longitude = map_locations_query_df['LONGITUDE'].mean()\n\n\n# Define tooltip, to provide details on points\ntooltip = {\n        \"html\": \n                \"<b>VIN:</b> {VIN} <br/>\"\n                \"<b>Registration Expiration:</b> {REGISTRATION_EXPIRATION_STR} <br/>\"\n                \"<b>ZIP:</b> {ZIP}\",\n            \"style\": {\n                    \"backgroundColor\": 'rgba(128, 0, 128, 0.5)',\n                    \"color\": \"white\"}}\n\n\n\n\n# mapbox API key\nmbkey = ''\n\n# define map details - layers, map provider, initial state, tooltip\ndeck_all_layers = pdk.Deck(\n        map_provider = 'mapbox',\n        api_keys = {\"mapbox\":mbkey},\n        map_style = 'mapbox://styles/mapbox/light-v11',\n        layers=[\n             map_locations_layer\n               ], \n        tooltip = tooltip,\n        initial_view_state=pdk.ViewState(\n        latitude=avg_latitude,\n        longitude=avg_longitude,\n        zoom=11,\n        pitch=30\n        )\n        )\n\n# display the map\nst.pydeck_chart(deck_all_layers)",
   "execution_count": null
  },
  {
   "cell_type": "code",
   "id": "1747c5c8-e671-49fb-844c-b0597fb42dd1",
   "metadata": {
    "language": "python",
    "name": "ARCPATH_4_POINT_FROM_OFFICE",
    "collapsed": false,
    "resultHeight": 681
   },
   "outputs": [],
   "source": "# Let's create an interactive map that allows users to select a field office and \n#   see expired registrations within x miles\n\nimport streamlit as st\nimport pandas as pd\nimport pydeck as pdk\n \n\n\nst.write(\"\")\nst.write(\"DHS & MV - Expired Registrations - Four Random Points\")\nst.write(\"\")\n\n# -------------------------------------------------------------------------------------\n# Filter for city center\n# -------------------------------------------------------------------------------------\n\n# Sidebar filter for the number of stations\n#MILES_AWAY = st.sidebar.number_input(\"Distance away (miles):\", min_value=1, max_value=10, step=1, value=1)\n\n\n\ncity_coordinates = {\n    \"Jacksonville\": (-81.6557,30.3322),\n    \"Orlando\": (-81.3789,28.5384),\n    \"Tallahassee\": (-84.2806,30.4382)\n}\n\n \nselected_city = st.selectbox(\n    \"Select a city:\",\n    options=list(city_coordinates.keys())  # The dropdown options (city names)\n)\n\n\n# Get the lat/long from the dictionary based on the selected city\nselected_lon, selected_lat = city_coordinates[selected_city]\n\n \nmap_locations_query = f\"\"\"\nwith POINTS as (\nSELECT \n  ST_MAKEPOINT(LONGITUDE, LATITUDE) as VEHICLE_LOCATION_POINT,\n  ST_MAKEPOINT({selected_lon},{selected_lat}) as FIELD_OFFICE_POINT , \n  VIN,\n  NUMBER || ' ' || STREET || ' ' || CITY || ', ' || STATE || ' ' || ZIP as ADDRESS,\n  LATITUDE,\n  LONGITUDE,\n  ZIP,\n  cast(REGISTRATION_EXPIRATION as string) as REGISTRATION_EXPIRATION_STR\nFROM \n     SILVER.HIGHWAY_SAFETY_GEO\n     )\n \n-- Select against CTE\nSELECT \n  VIN,\n  ADDRESS,  \n  ST_DWITHIN(VEHICLE_LOCATION_POINT, FIELD_OFFICE_POINT , ({MILES_AWAY_NUM}*1609.34)) AS WITHIN_RANGE,\n  ST_DISTANCE(VEHICLE_LOCATION_POINT, FIELD_OFFICE_POINT )/1609.34 AS MILES_AWAY,\n  LATITUDE,\n  LONGITUDE,\n  ZIP,\n  REGISTRATION_EXPIRATION_STR\nFROM \n  POINTS\nWHERE\n  ST_DISTANCE(VEHICLE_LOCATION_POINT, FIELD_OFFICE_POINT ) < ({MILES_AWAY_NUM}*1609.34) and \n  VIN is not NULL limit 4;\n \"\"\"\n\n\n\n# Query to get my map points\n#map_locations_query = f\"\"\"select LONGITUDE, LATITUDE , VIN , ZIP, cast(REGISTRATION_EXPIRATION as string) as REGISTRATION_EXPIRATION_STR from FL_DHS_MV.SILVER.HIGHWAY_SAFETY_GEO where REGISTRATION_EXPIRATION < CURRENT_DATE\"\"\"\nmap_locations_query_df = session.sql(map_locations_query).to_pandas()\nmap_locations_query_col = session.sql(map_locations_query).collect()\n\n\n# Ensure to use `.loc` for adding new columns to avoid SettingWithCopyWarning\nmap_locations_query_df_arc = map_locations_query_df[['LONGITUDE', 'LATITUDE', 'ZIP', 'VIN', 'REGISTRATION_EXPIRATION_STR']].copy()\n\n# Now you can safely add the new columns without getting the warning\nmap_locations_query_df_arc.loc[:, 'selected_lon'] = selected_lon\nmap_locations_query_df_arc.loc[:, 'selected_lat'] = selected_lat\n\n\n# RGBA. A = Alpha, it represents transparency.\n#    0 = fully transparent, 1 = fully opaque, defaults to 100\nGREEN_RGB = [0, 255, 0, 90]\nRED_RGB = [240, 100, 0, 90]\n\n\n\n# Define the ArcLayer\narc_layer = pdk.Layer(\n    'ArcLayer',\n    data=map_locations_query_df_arc,\n    get_source_position=[selected_lon, selected_lat],  # Source is the selected city coordinates\n    get_target_position=['LONGITUDE', 'LATITUDE'],  # Target is the latitude/longitude from the DataFrame\n    #get_color='color',\n    #get_width='width',\n    get_tilt=15,\n    get_source_color=RED_RGB,\n    get_target_color=GREEN_RGB,\n    getWidth=4,\n    getHeight=2,\n    getOpacity=1,\n    pickable=True,\n    auto_highlight=True\n\n)\n\n# st.write(arc_layer)\n\n# Define the Deck object and display it\ndeck = pdk.Deck(layers=[arc_layer], \n        map_provider = 'mapbox',\n        api_keys = {\"mapbox\":mbkey},\n        map_style = 'mapbox://styles/mapbox/light-v11',\n        initial_view_state=pdk.ViewState(\n            latitude=37.7749, \n            longitude=-122.4194, \n            zoom=3)\n               )\n\n\n# Calcualte average to set centerpoint of map, leverages above dataframe\navg_latitude = map_locations_query_df['LATITUDE'].mean()\navg_longitude = map_locations_query_df['LONGITUDE'].mean()\n\n\n# Define tooltip, to provide details on points\ntooltip = {\n        \"html\": \n                \"<b>VIN:</b> {VIN} <br/>\"\n                \"<b>Registration Expiration:</b> {REGISTRATION_EXPIRATION_STR} <br/>\"\n                \"<b>ZIP:</b> {ZIP}\",\n            \"style\": {\n                    \"backgroundColor\": 'rgba(128, 0, 128, 0.5)',\n                    \"color\": \"white\"}}\n\n\n\n\n# mapbox API key\nmbkey = ''\n\n# define map details - layers, map provider, initial state, tooltip\ndeck_all_layers = pdk.Deck(\n        map_provider = 'mapbox',\n        api_keys = {\"mapbox\":mbkey},\n        map_style = 'mapbox://styles/mapbox/light-v11',\n        layers=[\n            arc_layer\n               ], \n        tooltip = tooltip,\n        initial_view_state=pdk.ViewState(\n        latitude=avg_latitude,\n        longitude=avg_longitude,\n        zoom=13,\n        pitch=30\n        )\n        )\n\n# display the map\nst.pydeck_chart(deck_all_layers)",
   "execution_count": null
  },
  {
   "cell_type": "code",
   "id": "2a6e9848-8349-4228-9749-f33838650f00",
   "metadata": {
    "language": "python",
    "name": "PATH_4_RANDOM_POINTS",
    "collapsed": false,
    "resultHeight": 813
   },
   "outputs": [],
   "source": "\n# Let's create an interactive map that allows users to select a field office and \n#   see expired registrations within x miles\n\nimport streamlit as st\nimport pandas as pd\nimport pydeck as pdk\nfrom pydeck.types import String\n \n\nst.write(\"\")\nst.write(\"DHS & MV - Expired Registrations - Random Points - Path & Text Layer\")\nst.write(\"\")\n\n# -------------------------------------------------------------------------------------\n# Filter for city center\n# -------------------------------------------------------------------------------------\n\n# Sidebar filter for the number of stations\n#MILES_AWAY = st.sidebar.number_input(\"Distance away (miles):\", min_value=1, max_value=10, step=1, value=1)\n\n\ncity_coordinates = {\n    \"Jacksonville\": (-81.6557,30.3322),\n    \"Orlando\": (-81.3789,28.5384),\n    \"Tallahassee\": (-84.2806,30.4382)\n}\n\n\nselected_city = st.selectbox(\n    \"Select a city:\",\n    options=list(city_coordinates.keys())  # The dropdown options (city names)\n)\n\n\n# Get the lat/long from the dictionary based on the selected city\nselected_lon, selected_lat = city_coordinates[selected_city]\n\n\n\n \nmap_locations_query = f\"\"\"\nwith POINTS as (\nSELECT \n  ST_MAKEPOINT(LONGITUDE, LATITUDE) as VEHICLE_LOCATION_POINT,\n  ST_MAKEPOINT({selected_lon},{selected_lat}) as FIELD_OFFICE_POINT , \n  VIN,\n  NUMBER || ' ' || STREET || ' ' || CITY || ', ' || STATE || ' ' || ZIP as ADDRESS,\n  LATITUDE,\n  LONGITUDE,\n  ZIP,\n  cast(REGISTRATION_EXPIRATION as string) as REGISTRATION_EXPIRATION_STR\nFROM \n     SILVER.HIGHWAY_SAFETY_GEO\n     )\n \n-- Select against CTE\nSELECT \n  VIN,\n  ADDRESS,  \n  ST_DWITHIN(VEHICLE_LOCATION_POINT, FIELD_OFFICE_POINT , ({MILES_AWAY_NUM}*1609.34)) AS WITHIN_RANGE,\n  ST_DISTANCE(VEHICLE_LOCATION_POINT, FIELD_OFFICE_POINT )/1609.34 AS MILES_AWAY,\n  LATITUDE,\n  LONGITUDE,\n  ZIP,\n  REGISTRATION_EXPIRATION_STR\nFROM \n  POINTS\nWHERE\n  ST_DISTANCE(VEHICLE_LOCATION_POINT, FIELD_OFFICE_POINT ) < ({MILES_AWAY_NUM}*1609.34) and \n  VIN is not NULL limit 4;\n \"\"\"\n\n\n\n# Query to get my map points\n#map_locations_query = f\"\"\"select LONGITUDE, LATITUDE , VIN , ZIP, cast(REGISTRATION_EXPIRATION as string) as REGISTRATION_EXPIRATION_STR from FL_DHS_MV.SILVER.HIGHWAY_SAFETY_GEO where REGISTRATION_EXPIRATION < CURRENT_DATE\"\"\"\nmap_locations_query_df = session.sql(map_locations_query).to_pandas()\nmap_locations_query_col = session.sql(map_locations_query).collect()\n\n\n\ndef prepare_path_data(map_locations_query_df):\n        return map_locations_query_df[['LONGITUDE', 'LATITUDE']].values.tolist()\n\npath_data = prepare_path_data(map_locations_query_df)\n\n\n\n\npath_layer = pdk.Layer(\n    type=\"PathLayer\",\n    data=[{'coordinates': path_data}],  # Wrap path_data in a dict with a 'coordinates' key\n    get_path=\"coordinates\",  # Ensure it refers to the 'coordinates' field in the data\n    get_color=[255, 0, 0],  # Red color for the path\n    width_scale=20,\n    width_min_pixels=2,\n)\n\n\n\n# Define my map layer off above dataframe\nmap_locations_layer = pdk.Layer(\n    type='ScatterplotLayer', \n    data=map_locations_query_df, \n    pickable=True,\n    get_position='[LONGITUDE, LATITUDE]', \n    get_color='[215,21,99]',\n    # get_color='[128,0,128,200]',   \n    get_radius=10,\n    opacity=0.1,\n    auto_highlight=True,\n    id = 'map_locations_id' \n)\n\n\n\nst.write(map_locations_query_df)\n\n\n# Calcualte average to set centerpoint of map, leverages above dataframe\navg_latitude = map_locations_query_df['LATITUDE'].mean()\navg_longitude = map_locations_query_df['LONGITUDE'].mean()\n\n\n# Define tooltip, to provide details on points\ntooltip = {\n        \"html\": \n                \"<b>VIN:</b> {VIN} <br/>\"\n                \"<b>Registration Expiration:</b> {REGISTRATION_EXPIRATION_STR} <br/>\"\n                \"<b>ZIP:</b> {ZIP}\",\n            \"style\": {\n                    \"backgroundColor\": 'rgba(128, 0, 128, 0.5)',\n                    \"color\": \"white\"}}\n\n\n\ntext_layer = pdk.Layer(\n    \"TextLayer\",\n    data=map_locations_query_df,\n    pickable=True,\n    get_position='[LONGITUDE, LATITUDE]',\n    get_text=\"VIN\",\n    get_size=16,\n    get_color=[0, 0, 0],\n    get_angle=0,\n    # Note that string constants in pydeck are explicitly passed as strings\n    # This distinguishes them from columns in a data set\n    get_text_anchor=String(\"middle\"),\n    get_alignment_baseline=String(\"center\"),\n)\n\n\n\n\n\n\n# mapbox API key\nmbkey = ''\n\n# define map details - layers, map provider, initial state, tooltip\ndeck_all_layers = pdk.Deck(\n        map_provider = 'mapbox',\n        api_keys = {\"mapbox\":mbkey},\n        map_style = 'mapbox://styles/mapbox/light-v11',\n        layers=[\n             map_locations_layer,\n            path_layer,\n            text_layer\n               ], \n        tooltip = tooltip,\n        initial_view_state=pdk.ViewState(\n        latitude=avg_latitude,\n        longitude=avg_longitude,\n        zoom=11,\n        pitch=30\n        )\n        )\n\n# display the map\nst.pydeck_chart(deck_all_layers)",
   "execution_count": null
  }
 ]
}